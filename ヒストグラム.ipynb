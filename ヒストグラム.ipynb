{
 "cells": [
  {
   "cell_type": "code",
   "execution_count": 1,
   "metadata": {
    "collapsed": true
   },
   "outputs": [],
   "source": [
    "from numpy.random import randn\n",
    "import matplotlib.pyplot as plt\n",
    "import seaborn as sns\n",
    "\n",
    "%matplotlib inline"
   ]
  },
  {
   "cell_type": "code",
   "execution_count": 2,
   "metadata": {
    "collapsed": true
   },
   "outputs": [],
   "source": [
    "dataset1 = randn(100)"
   ]
  },
  {
   "cell_type": "code",
   "execution_count": 3,
   "metadata": {},
   "outputs": [
    {
     "data": {
      "text/plain": [
       "(array([  1.,   1.,   5.,   7.,   9.,  24.,  19.,  20.,   7.,   7.]),\n",
       " array([-3.19319055, -2.66514066, -2.13709078, -1.60904089, -1.08099101,\n",
       "        -0.55294113, -0.02489124,  0.50315864,  1.03120853,  1.55925841,\n",
       "         2.0873083 ]),\n",
       " <a list of 10 Patch objects>)"
      ]
     },
     "execution_count": 3,
     "metadata": {},
     "output_type": "execute_result"
    },
    {
     "data": {
      "image/png": "[encoded data removed]",
      "text/plain": [
       "<matplotlib.figure.Figure at 0x1098c81d0>"
      ]
     },
     "metadata": {},
     "output_type": "display_data"
    }
   ],
   "source": [
    "plt.hist(dataset1)"
   ]
  },
  {
   "cell_type": "code",
   "execution_count": 4,
   "metadata": {},
   "outputs": [
    {
     "data": {
      "text/plain": [
       "(array([  2.,   2.,  14.,  19.,  19.,   7.,  10.,   4.,   1.,   2.]),\n",
       " array([-2.29308971, -1.75656313, -1.22003655, -0.68350997, -0.14698338,\n",
       "         0.3895432 ,  0.92606978,  1.46259636,  1.99912294,  2.53564952,\n",
       "         3.0721761 ]),\n",
       " <a list of 10 Patch objects>)"
      ]
     },
     "execution_count": 4,
     "metadata": {},
     "output_type": "execute_result"
    },
    {
     "data": {
      "image/png": "[encoded data removed]",
      "text/plain": [
       "<matplotlib.figure.Figure at 0x1098c9a58>"
      ]
     },
     "metadata": {},
     "output_type": "display_data"
    }
   ],
   "source": [
    "dataset2 = randn(80)\n",
    "plt.hist(dataset2, color='indianred')"
   ]
  },
  {
   "cell_type": "code",
   "execution_count": 5,
   "metadata": {},
   "outputs": [
    {
     "data": {
      "text/plain": [
       "(array([ 0.0189376 ,  0.0189376 ,  0.09468802,  0.13256323,  0.17043844,\n",
       "         0.45450251,  0.35981449,  0.3787521 ,  0.13256323,  0.13256323]),\n",
       " array([-3.19319055, -2.66514066, -2.13709078, -1.60904089, -1.08099101,\n",
       "        -0.55294113, -0.02489124,  0.50315864,  1.03120853,  1.55925841,\n",
       "         2.0873083 ]),\n",
       " <a list of 10 Patch objects>)"
      ]
     },
     "execution_count": 5,
     "metadata": {},
     "output_type": "execute_result"
    },
    {
     "data": {
      "image/png": "[encoded data removed]",
      "text/plain": [
       "<matplotlib.figure.Figure at 0x1098d2160>"
      ]
     },
     "metadata": {},
     "output_type": "display_data"
    }
   ],
   "source": [
    "# 縦軸を全体の合計が1になるようにする\n",
    "plt.hist(dataset1, normed=True)"
   ]
  },
  {
   "cell_type": "code",
   "execution_count": 9,
   "metadata": {},
   "outputs": [
    {
     "data": {
      "text/plain": [
       "(array([ 0.04659601,  0.04659601,  0.09319203,  0.        ,  0.27957608,\n",
       "         0.37276811,  0.37276811,  0.51255615,  0.41936412,  0.46596014,\n",
       "         0.09319203,  0.23298007,  0.3261721 ,  0.13978804,  0.18638406,\n",
       "         0.        ,  0.04659601,  0.        ,  0.04659601,  0.04659601]),\n",
       " array([-2.29308971, -2.02482642, -1.75656313, -1.48829984, -1.22003655,\n",
       "        -0.95177326, -0.68350997, -0.41524668, -0.14698338,  0.12127991,\n",
       "         0.3895432 ,  0.65780649,  0.92606978,  1.19433307,  1.46259636,\n",
       "         1.73085965,  1.99912294,  2.26738623,  2.53564952,  2.80391281,\n",
       "         3.0721761 ]),\n",
       " <a list of 20 Patch objects>)"
      ]
     },
     "execution_count": 9,
     "metadata": {},
     "output_type": "execute_result"
    },
    {
     "data": {
      "image/png": "[encoded data removed]",
      "text/plain": [
       "<matplotlib.figure.Figure at 0x1a12c10438>"
      ]
     },
     "metadata": {},
     "output_type": "display_data"
    }
   ],
   "source": [
    "# dataset1とdataset2を重ねて書く\n",
    "# alpha: 透明度\n",
    "# bins: binの数(横軸)\n",
    "plt.hist(dataset1, normed=True, alpha=0.5, bins=20)\n",
    "plt.hist(dataset2, normed=True, alpha=0.5, bins=20, color='indianred')"
   ]
  },
  {
   "cell_type": "code",
   "execution_count": 10,
   "metadata": {
    "collapsed": true
   },
   "outputs": [],
   "source": [
    "data1 = randn(1000)\n",
    "data2 = randn(1000)"
   ]
  },
  {
   "cell_type": "code",
   "execution_count": null,
   "metadata": {
    "collapsed": true
   },
   "outputs": [],
   "source": []
  }
 ],
 "metadata": {
  "kernelspec": {
   "display_name": "Python 3",
   "language": "python",
   "name": "python3"
  },
  "language_info": {
   "codemirror_mode": {
    "name": "ipython",
    "version": 3
   },
   "file_extension": ".py",
   "mimetype": "text/x-python",
   "name": "python",
   "nbconvert_exporter": "python",
   "pygments_lexer": "ipython3",
   "version": "3.6.3"
  }
 },
 "nbformat": 4,
 "nbformat_minor": 2
}
